{
  "nbformat": 4,
  "nbformat_minor": 0,
  "metadata": {
    "colab": {
      "name": "No 3 UAS ML.ipynb",
      "provenance": [],
      "collapsed_sections": []
    },
    "kernelspec": {
      "name": "python3",
      "display_name": "Python 3"
    },
    "language_info": {
      "name": "python"
    }
  },
  "cells": [
    {
      "cell_type": "code",
      "metadata": {
        "id": "1Q2RlKhQbRcX"
      },
      "source": [
        "# Reyhan Suisanto\n",
        "# 2301872980"
      ],
      "execution_count": null,
      "outputs": []
    },
    {
      "cell_type": "code",
      "metadata": {
        "id": "xe9kaOdljMN7"
      },
      "source": [
        "import pandas as pd\n",
        "import numpy as np\n",
        "import matplotlib.pyplot as plt\n",
        "import seaborn as sns\n",
        "import sklearn\n",
        "from sklearn.cluster import KMeans\n",
        "from sklearn.metrics import silhouette_score\n",
        "from scipy.stats import multivariate_normal\n",
        "from sklearn.mixture import GaussianMixture\n",
        "from sklearn.preprocessing import StandardScaler"
      ],
      "execution_count": null,
      "outputs": []
    },
    {
      "cell_type": "markdown",
      "metadata": {
        "id": "XfxPWP6SX3o2"
      },
      "source": [
        "Pertama, load dataset. Kemudian buat plt untuk mengetahui sedikit gambaran tentang dataset"
      ]
    },
    {
      "cell_type": "code",
      "metadata": {
        "colab": {
          "base_uri": "https://localhost:8080/",
          "height": 265
        },
        "id": "jPOKmj4qxgZL",
        "outputId": "feac5154-45bb-4790-81dc-37bbafa33df1"
      },
      "source": [
        "dataset = pd.read_csv(\"UAS_ML2021_DATASET02.csv\")\n",
        "\n",
        "x1 = dataset['Atribut_01']\n",
        "x2 = dataset['Atribut_02']\n",
        "\n",
        "plt.scatter(x1,x2)\n",
        "plt.show()"
      ],
      "execution_count": null,
      "outputs": [
        {
          "output_type": "display_data",
          "data": {
            "image/png": "[encoded data removed]",
            "text/plain": [
              "<Figure size 432x288 with 1 Axes>"
            ]
          },
          "metadata": {
            "tags": [],
            "needs_background": "light"
          }
        }
      ]
    },
    {
      "cell_type": "markdown",
      "metadata": {
        "id": "0Lmi8uvTYCcy"
      },
      "source": [
        "Saya menggunakan scaler agar value dari dataset di normalize sehingga lebih mudah di proses"
      ]
    },
    {
      "cell_type": "code",
      "metadata": {
        "id": "96Iw0svBXnU8"
      },
      "source": [
        "scaler = StandardScaler()\n",
        "data = scaler.fit_transform(dataset)"
      ],
      "execution_count": null,
      "outputs": []
    },
    {
      "cell_type": "markdown",
      "metadata": {
        "id": "ydpSvWXiYJUu"
      },
      "source": [
        "Kemudian saya menggunakan library KMeans untuk membuat silhoutte method dan nanti untuk menunjukkan silhoutte score"
      ]
    },
    {
      "cell_type": "code",
      "metadata": {
        "colab": {
          "base_uri": "https://localhost:8080/",
          "height": 283
        },
        "id": "kwDiHwfL0gB-",
        "outputId": "6007c869-43ef-4270-f504-2e1532f2982f"
      },
      "source": [
        "range_n_clusters = [2, 3, 4, 5, 6, 7, 8]\n",
        "silhouette_avg = []\n",
        "\n",
        "for num_clusters in range_n_clusters:\n",
        " # initialise kmeans\n",
        " kmeans = KMeans(n_clusters=num_clusters)\n",
        " kmeans.fit(data)\n",
        " cluster_labels = kmeans.labels_\n",
        " # silhouette score\n",
        " silhouette_avg.append(silhouette_score(data, cluster_labels))\n",
        "\n",
        "plt.plot(range_n_clusters,silhouette_avg)\n",
        "plt.xlabel('K')\n",
        "plt.ylabel('Silhouette score') \n",
        "plt.show()"
      ],
      "execution_count": null,
      "outputs": [
        {
          "output_type": "display_data",
          "data": {
            "image/png": "[encoded data removed]",
            "text/plain": [
              "<Figure size 432x288 with 1 Axes>"
            ]
          },
          "metadata": {
            "tags": [],
            "needs_background": "light"
          }
        }
      ]
    },
    {
      "cell_type": "markdown",
      "metadata": {
        "id": "5tBqfEBbYkpu"
      },
      "source": [
        "Bisa dilihat dari grafik diatas bahwa pucuk ada di angka 3, maka dari itu terdapat 3 cluster dalam dataset ini. Setelah itu saya cari silhoutte score nya dan score tertinggi ada di k=3"
      ]
    },
    {
      "cell_type": "code",
      "metadata": {
        "colab": {
          "base_uri": "https://localhost:8080/"
        },
        "id": "4LSn92FT8jC9",
        "outputId": "71043cce-5b1a-4948-94e0-1916dc6de99b"
      },
      "source": [
        "for n_clusters in range_n_clusters:\n",
        "    cluster = KMeans (n_clusters=n_clusters).fit(data)\n",
        "    pred = cluster.predict(data)\n",
        "    center = cluster.cluster_centers_\n",
        "\n",
        "    # Silhoutte Score\n",
        "    score = silhouette_score (data, pred, metric='euclidean')\n",
        "    print (f\"For K = {n_clusters}, score is {score}\")"
      ],
      "execution_count": null,
      "outputs": [
        {
          "output_type": "stream",
          "text": [
            "For K = 2, score is 0.6621705527181878\n",
            "For K = 3, score is 0.7356847709879415\n",
            "For K = 4, score is 0.595065322092602\n",
            "For K = 5, score is 0.5880894311427806\n",
            "For K = 6, score is 0.5250379447371764\n",
            "For K = 7, score is 0.4385350703092437\n",
            "For K = 8, score is 0.4464360448302465\n"
          ],
          "name": "stdout"
        }
      ]
    },
    {
      "cell_type": "markdown",
      "metadata": {
        "id": "mk8as4Xw3shK"
      },
      "source": [
        "Sekarang saya mencari center dari setiap cluster untuk nanti digunakan ke mu/mean"
      ]
    },
    {
      "cell_type": "code",
      "metadata": {
        "colab": {
          "base_uri": "https://localhost:8080/"
        },
        "id": "6BxEFCd53JoT",
        "outputId": "16adf758-55d5-465c-a1bb-c1a8fa97c042"
      },
      "source": [
        "kmeans = KMeans(n_clusters=3).fit(data)\n",
        "centre_k = kmeans.cluster_centers_\n",
        "print(centre_k)"
      ],
      "execution_count": null,
      "outputs": [
        {
          "output_type": "stream",
          "text": [
            "[[ 0.12696481  0.02289726]\n",
            " [ 1.197698    1.32922733]\n",
            " [-1.47732521 -1.40637377]]\n"
          ],
          "name": "stdout"
        }
      ]
    },
    {
      "cell_type": "markdown",
      "metadata": {
        "id": "-mgxPx1r33Tk"
      },
      "source": [
        "Lalu dibawah adalah step pertama untuk GMM"
      ]
    },
    {
      "cell_type": "code",
      "metadata": {
        "id": "pLjVKa7s4OD9"
      },
      "source": [
        "row = data.shape[0]\n",
        "columns = data.shape[1]\n",
        "\n",
        "# Initialize mean, sigma, and phi\n",
        "mu = centre_k\n",
        "sigma = [np.cov(data.T) for _ in range(3)]\n",
        "phi = np.full(shape=3, fill_value=row/3)\n",
        "\n",
        "# Calculate initial value of log likelihood\n",
        "likelihood = np.zeros((row, 3))\n",
        "\n",
        "# Responsibility (resp) shows the probability of every single item belong to cluster 0 or cluster 1 (only 2 cluster)\n",
        "resp = np.zeros((row, 3))"
      ],
      "execution_count": null,
      "outputs": []
    },
    {
      "cell_type": "markdown",
      "metadata": {
        "id": "SfqSRKWCQykx"
      },
      "source": [
        "Step kedua yaitu E-Step adalah untuk mencari log likelihood nya"
      ]
    },
    {
      "cell_type": "code",
      "metadata": {
        "colab": {
          "base_uri": "https://localhost:8080/"
        },
        "id": "RQ2F7FuP_auy",
        "outputId": "ba84ffbd-0b42-45e4-92cd-f35cc223536e"
      },
      "source": [
        "for i in range(3):\n",
        "    likelihood[:,i] = multivariate_normal.pdf(data, mu[i], sigma[i], allow_singular=True)\n",
        "    resp[:, i] = phi[i] * likelihood[:,i]\n",
        "\n",
        "# Rumus log likelihood\n",
        "loglikelihood = np.sum(np.log(np.sum(resp, axis = 1)))\n",
        "\n",
        "resp = resp / resp.sum(axis = 1, keepdims = 1)\n",
        "\n",
        "print(loglikelihood)"
      ],
      "execution_count": null,
      "outputs": [
        {
          "output_type": "stream",
          "text": [
            "2251.383916675718\n"
          ],
          "name": "stdout"
        }
      ]
    },
    {
      "cell_type": "markdown",
      "metadata": {
        "id": "CmAFbDdfQusZ"
      },
      "source": [
        "Kemudian M-step yaitu untuk update mean, sigma, dan phi agar kemudian bisa digunakan lagi untuk mengubah log likelihoodnya sampai dapat konvergen"
      ]
    },
    {
      "cell_type": "code",
      "metadata": {
        "colab": {
          "base_uri": "https://localhost:8080/"
        },
        "id": "vwVIJ3-qDyvg",
        "outputId": "f82e2acc-3324-470e-f0fe-4314b3dbe79d"
      },
      "source": [
        "for i in range(3):\n",
        "    weight = resp[:, [i]]\n",
        "    total_weight = weight.sum()\n",
        "    mu[i] = (data * weight).sum(axis=0) / total_weight\n",
        "    sigma[i] = np.cov(data.T, aweights=(weight/total_weight).flatten(), bias=True)\n",
        "\n",
        "phi = resp.mean(axis=0)\n",
        "\n",
        "# Hasil mean, sigma, dan phi yang baru\n",
        "print(\"Updated Means :\", mu)\n",
        "print(\"Updated Covariances :\", sigma)\n",
        "print(\"Updated Phi :\", phi)"
      ],
      "execution_count": null,
      "outputs": [
        {
          "output_type": "stream",
          "text": [
            "Updated Means : [[ 0.16364495  0.02489242]\n",
            " [ 0.72590159  0.84743819]\n",
            " [-1.01771883 -0.94525372]]\n",
            "Updated Covariances : [array([[0.57147388, 0.50520591],\n",
            "       [0.50520591, 0.54417897]]), array([[0.45646697, 0.44634824],\n",
            "       [0.44634824, 0.48968424]]), array([[0.56927666, 0.53889915],\n",
            "       [0.53889915, 0.54895277]])]\n",
            "Updated Phi : [0.4135852  0.30346298 0.28295182]\n"
          ],
          "name": "stdout"
        }
      ]
    },
    {
      "cell_type": "markdown",
      "metadata": {
        "id": "iadjWNLvQCGH"
      },
      "source": [
        "Kemudian saya membuat sebuah looping sebanyak 100 iterasi agar saya bisa lihat iterasi ke berapa yang konvergen (log likelihoodnya sama)"
      ]
    },
    {
      "cell_type": "code",
      "metadata": {
        "colab": {
          "base_uri": "https://localhost:8080/"
        },
        "id": "puY7lj0gF9as",
        "outputId": "b762db12-7cf2-4252-ceaa-6fb8b0d150b9"
      },
      "source": [
        "for j in range(100):\n",
        "\n",
        "  # E-step to print the new log likelihood\n",
        "  for i in range(3):\n",
        "      likelihood[:,i] = multivariate_normal.pdf(data, mu[i],sigma[i], allow_singular=True)\n",
        "      resp[:, i] = phi[i] * likelihood[:,i]\n",
        "\n",
        "  loglikelihood = np.sum(np.log(np.sum(resp, axis = 1)))\n",
        "\n",
        "  # normalize over all possible cluster \n",
        "  resp = resp / resp.sum(axis = 1, keepdims = 1)\n",
        "\n",
        "  # Update mean, sigma, and phi using M-step again\n",
        "  for i in range(3):\n",
        "      weight = resp[:, [i]]\n",
        "      total_weight = weight.sum()\n",
        "      mu[i] = (data * weight).sum(axis=0) / total_weight\n",
        "      sigma[i] = np.cov(data.T, aweights=(weight/total_weight).flatten(), bias=True)\n",
        "\n",
        "  phi = resp.mean(axis=0)\n",
        "  print(f'Iteration {j}: {loglikelihood}')"
      ],
      "execution_count": null,
      "outputs": [
        {
          "output_type": "stream",
          "text": [
            "Iteration 0: -720.5981006680241\n",
            "Iteration 1: -651.829916292004\n",
            "Iteration 2: -579.5435557238889\n",
            "Iteration 3: -523.9338387758022\n",
            "Iteration 4: -492.1851983949066\n",
            "Iteration 5: -461.4794985993161\n",
            "Iteration 6: -441.7982369732335\n",
            "Iteration 7: -436.6801565163179\n",
            "Iteration 8: -428.6338650289479\n",
            "Iteration 9: -415.61604169312994\n",
            "Iteration 10: -400.803938018582\n",
            "Iteration 11: -393.5655288629051\n",
            "Iteration 12: -392.71757184145474\n",
            "Iteration 13: -392.68200015080174\n",
            "Iteration 14: -392.67959178957955\n",
            "Iteration 15: -392.6793998874447\n",
            "Iteration 16: -392.6793844457228\n",
            "Iteration 17: -392.6793832032962\n",
            "Iteration 18: -392.67938310335114\n",
            "Iteration 19: -392.67938309531166\n",
            "Iteration 20: -392.6793830946649\n",
            "Iteration 21: -392.6793830946127\n",
            "Iteration 22: -392.67938309460885\n",
            "Iteration 23: -392.67938309460845\n",
            "Iteration 24: -392.6793830946085\n",
            "Iteration 25: -392.6793830946085\n",
            "Iteration 26: -392.6793830946084\n",
            "Iteration 27: -392.6793830946084\n",
            "Iteration 28: -392.6793830946084\n",
            "Iteration 29: -392.67938309460845\n",
            "Iteration 30: -392.6793830946084\n",
            "Iteration 31: -392.6793830946085\n",
            "Iteration 32: -392.67938309460857\n",
            "Iteration 33: -392.6793830946085\n",
            "Iteration 34: -392.67938309460845\n",
            "Iteration 35: -392.6793830946085\n",
            "Iteration 36: -392.67938309460845\n",
            "Iteration 37: -392.6793830946086\n",
            "Iteration 38: -392.6793830946084\n",
            "Iteration 39: -392.6793830946086\n",
            "Iteration 40: -392.6793830946085\n",
            "Iteration 41: -392.6793830946085\n",
            "Iteration 42: -392.6793830946085\n",
            "Iteration 43: -392.6793830946087\n",
            "Iteration 44: -392.6793830946086\n",
            "Iteration 45: -392.6793830946085\n",
            "Iteration 46: -392.6793830946087\n",
            "Iteration 47: -392.6793830946086\n",
            "Iteration 48: -392.6793830946085\n",
            "Iteration 49: -392.6793830946087\n",
            "Iteration 50: -392.6793830946086\n",
            "Iteration 51: -392.6793830946085\n",
            "Iteration 52: -392.6793830946087\n",
            "Iteration 53: -392.6793830946086\n",
            "Iteration 54: -392.6793830946085\n",
            "Iteration 55: -392.6793830946087\n",
            "Iteration 56: -392.6793830946086\n",
            "Iteration 57: -392.6793830946085\n",
            "Iteration 58: -392.6793830946087\n",
            "Iteration 59: -392.6793830946086\n",
            "Iteration 60: -392.6793830946085\n",
            "Iteration 61: -392.6793830946087\n",
            "Iteration 62: -392.6793830946086\n",
            "Iteration 63: -392.6793830946085\n",
            "Iteration 64: -392.6793830946087\n",
            "Iteration 65: -392.6793830946086\n",
            "Iteration 66: -392.6793830946085\n",
            "Iteration 67: -392.6793830946087\n",
            "Iteration 68: -392.6793830946086\n",
            "Iteration 69: -392.6793830946085\n",
            "Iteration 70: -392.6793830946087\n",
            "Iteration 71: -392.6793830946086\n",
            "Iteration 72: -392.6793830946085\n",
            "Iteration 73: -392.6793830946087\n",
            "Iteration 74: -392.6793830946086\n",
            "Iteration 75: -392.6793830946085\n",
            "Iteration 76: -392.6793830946087\n",
            "Iteration 77: -392.6793830946086\n",
            "Iteration 78: -392.6793830946085\n",
            "Iteration 79: -392.6793830946087\n",
            "Iteration 80: -392.6793830946086\n",
            "Iteration 81: -392.6793830946085\n",
            "Iteration 82: -392.6793830946087\n",
            "Iteration 83: -392.6793830946086\n",
            "Iteration 84: -392.6793830946085\n",
            "Iteration 85: -392.6793830946087\n",
            "Iteration 86: -392.6793830946086\n",
            "Iteration 87: -392.6793830946085\n",
            "Iteration 88: -392.6793830946087\n",
            "Iteration 89: -392.6793830946086\n",
            "Iteration 90: -392.6793830946085\n",
            "Iteration 91: -392.6793830946087\n",
            "Iteration 92: -392.6793830946086\n",
            "Iteration 93: -392.6793830946085\n",
            "Iteration 94: -392.6793830946087\n",
            "Iteration 95: -392.6793830946086\n",
            "Iteration 96: -392.6793830946085\n",
            "Iteration 97: -392.6793830946087\n",
            "Iteration 98: -392.6793830946086\n",
            "Iteration 99: -392.6793830946085\n"
          ],
          "name": "stdout"
        }
      ]
    },
    {
      "cell_type": "markdown",
      "metadata": {
        "id": "LvwfHjsFiJcL"
      },
      "source": [
        "Bisa dilihat dari hasil diatas bahwa ada log likelihood yang konvergen. Kemudian saya menggunakan library GaussianMixture untuk mencari log likelihood yang paling optimal"
      ]
    },
    {
      "cell_type": "code",
      "metadata": {
        "colab": {
          "base_uri": "https://localhost:8080/"
        },
        "id": "AiRWdfCPWTcE",
        "outputId": "82d31b21-cd84-4830-8168-d4ff0521b8d2"
      },
      "source": [
        "GMM = GaussianMixture (n_components=3).fit(data)\n",
        "labels = GMM.predict (data)\n",
        "optimal = GMM.score(data)\n",
        "optimal"
      ],
      "execution_count": null,
      "outputs": [
        {
          "output_type": "execute_result",
          "data": {
            "text/plain": [
              "-0.7853616483298623"
            ]
          },
          "metadata": {
            "tags": []
          },
          "execution_count": 11
        }
      ]
    },
    {
      "cell_type": "markdown",
      "metadata": {
        "id": "OJAXQfgqiWqs"
      },
      "source": [
        "Dan terakhir, saya menunjukkan cluster yang sudah terbagi dengan baik dan benar"
      ]
    },
    {
      "cell_type": "code",
      "metadata": {
        "colab": {
          "base_uri": "https://localhost:8080/",
          "height": 282
        },
        "id": "vXcmqEEvZ8aS",
        "outputId": "0a7b7730-10e3-45b5-f396-a8405d2ebcd2"
      },
      "source": [
        "plt.scatter (data[:, 0], data[:, 1], c = labels, s = 40, cmap='gist_rainbow')"
      ],
      "execution_count": null,
      "outputs": [
        {
          "output_type": "execute_result",
          "data": {
            "text/plain": [
              "<matplotlib.collections.PathCollection at 0x7fb16e78c910>"
            ]
          },
          "metadata": {
            "tags": []
          },
          "execution_count": 12
        },
        {
          "output_type": "display_data",
          "data": {
            "image/png": "[encoded data removed]",
            "text/plain": [
              "<Figure size 432x288 with 1 Axes>"
            ]
          },
          "metadata": {
            "tags": [],
            "needs_background": "light"
          }
        }
      ]
    }
  ]
}